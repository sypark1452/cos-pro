{
 "metadata": {
  "language_info": {
   "codemirror_mode": {
    "name": "ipython",
    "version": 3
   },
   "file_extension": ".py",
   "mimetype": "text/x-python",
   "name": "python",
   "nbconvert_exporter": "python",
   "pygments_lexer": "ipython3",
   "version": "3.8.5-final"
  },
  "orig_nbformat": 2,
  "kernelspec": {
   "name": "python3",
   "display_name": "Python 3",
   "language": "python"
  }
 },
 "nbformat": 4,
 "nbformat_minor": 2,
 "cells": [
  {
   "cell_type": "code",
   "execution_count": 1,
   "metadata": {},
   "outputs": [
    {
     "output_type": "stream",
     "name": "stdout",
     "text": [
      "연습 0\n연습 1\n연습 2\n연습 3\n연습 4\n"
     ]
    }
   ],
   "source": [
    "for i in range(5):\n",
    "    print('연습', i)"
   ]
  },
  {
   "cell_type": "code",
   "execution_count": 2,
   "metadata": {},
   "outputs": [
    {
     "output_type": "stream",
     "name": "stdout",
     "text": [
      "연습 5\n연습 6\n연습 7\n연습 8\n연습 9\n"
     ]
    }
   ],
   "source": [
    "for i in range(5, 10):\n",
    "    print('연습', i)"
   ]
  },
  {
   "cell_type": "code",
   "execution_count": 6,
   "metadata": {},
   "outputs": [
    {
     "output_type": "stream",
     "name": "stdout",
     "text": [
      "practice 0\npractice 2\npractice 4\npractice 6\npractice 8\n"
     ]
    }
   ],
   "source": [
    "for i in range(0,10,2):\n",
    "    print('practice', i)"
   ]
  },
  {
   "cell_type": "code",
   "execution_count": 7,
   "metadata": {},
   "outputs": [
    {
     "output_type": "stream",
     "name": "stdout",
     "text": [
      "practice 10\npractice 9\npractice 8\npractice 7\npractice 6\npractice 5\npractice 4\npractice 3\npractice 2\npractice 1\n"
     ]
    }
   ],
   "source": [
    "for i in range(10,0,-1):\n",
    "    print('practice', i)"
   ]
  },
  {
   "cell_type": "code",
   "execution_count": 9,
   "metadata": {},
   "outputs": [
    {
     "output_type": "stream",
     "name": "stdout",
     "text": [
      "hello 9\nhello 8\nhello 7\nhello 6\nhello 5\nhello 4\nhello 3\nhello 2\nhello 1\nhello 0\n"
     ]
    }
   ],
   "source": [
    "count = int(input('press the number'))\n",
    "\n",
    "for i in reversed(range(count)):   # reversed\n",
    "    print('hello', i)"
   ]
  },
  {
   "cell_type": "code",
   "execution_count": 10,
   "metadata": {},
   "outputs": [
    {
     "output_type": "stream",
     "name": "stdout",
     "text": [
      "10\n20\n30\n40\n50\n"
     ]
    }
   ],
   "source": [
    "a = [10,20,30,40,50]\n",
    "\n",
    "for i in a:\n",
    "    print(i)"
   ]
  },
  {
   "cell_type": "code",
   "execution_count": 11,
   "metadata": {},
   "outputs": [
    {
     "output_type": "stream",
     "name": "stdout",
     "text": [
      "apple\norange\ngrape\nbanana\n"
     ]
    }
   ],
   "source": [
    "f = ['apple', 'orange', 'grape', 'banana']\n",
    "\n",
    "for i in f:\n",
    "    print(i)"
   ]
  },
  {
   "cell_type": "code",
   "execution_count": 13,
   "metadata": {},
   "outputs": [
    {
     "output_type": "stream",
     "name": "stdout",
     "text": [
      "P y t h o n "
     ]
    }
   ],
   "source": [
    "b = 'Python'\n",
    "\n",
    "for bb in b:\n",
    "    print(bb, end = ' ')"
   ]
  },
  {
   "cell_type": "code",
   "execution_count": 15,
   "metadata": {},
   "outputs": [
    {
     "output_type": "stream",
     "name": "stdout",
     "text": [
      "n o h t y P "
     ]
    }
   ],
   "source": [
    "for bb in reversed(b):  # 뒤집어서 출력\n",
    "    print(bb, end=' ')"
   ]
  },
  {
   "cell_type": "code",
   "execution_count": 18,
   "metadata": {},
   "outputs": [
    {
     "output_type": "stream",
     "name": "stdout",
     "text": [
      "1 to 55 sum is 55\n"
     ]
    }
   ],
   "source": [
    "s = 0\n",
    "for i in range(1,11):\n",
    "    s += i\n",
    "print('1 to 55 sum is',s)"
   ]
  },
  {
   "cell_type": "code",
   "execution_count": 20,
   "metadata": {},
   "outputs": [
    {
     "output_type": "stream",
     "name": "stdout",
     "text": [
      "1 to 55 odd sum is 25\n"
     ]
    }
   ],
   "source": [
    "s = 0\n",
    "for i in range(1,11,2):\n",
    "    s += i\n",
    "print('1 to 55 odd sum is',s)"
   ]
  },
  {
   "cell_type": "code",
   "execution_count": 21,
   "metadata": {},
   "outputs": [
    {
     "output_type": "stream",
     "name": "stdout",
     "text": [
      "1 to 55 even sum is 30\n"
     ]
    }
   ],
   "source": [
    "s = 0\n",
    "for i in range(0,11,2):\n",
    "    s += i\n",
    "print('1 to 55 even sum is',s)"
   ]
  },
  {
   "cell_type": "code",
   "execution_count": 24,
   "metadata": {},
   "outputs": [
    {
     "output_type": "stream",
     "name": "stdout",
     "text": [
      "1\n2\n3\n4\n24\n"
     ]
    }
   ],
   "source": [
    "# 1 to n factorial\n",
    "n = 4\n",
    "factorial = 1\n",
    "\n",
    "for i in range(1, n+1):\n",
    "    factorial *= i\n",
    "    print(i)\n",
    "\n",
    "print(factorial)  # 최종결과값\n"
   ]
  }
 ]
}