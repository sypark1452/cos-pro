{
 "metadata": {
  "language_info": {
   "codemirror_mode": {
    "name": "ipython",
    "version": 3
   },
   "file_extension": ".py",
   "mimetype": "text/x-python",
   "name": "python",
   "nbconvert_exporter": "python",
   "pygments_lexer": "ipython3",
   "version": "3.8.5-final"
  },
  "orig_nbformat": 2,
  "kernelspec": {
   "name": "python3",
   "display_name": "Python 3",
   "language": "python"
  }
 },
 "nbformat": 4,
 "nbformat_minor": 2,
 "cells": [
  {
   "cell_type": "code",
   "execution_count": 3,
   "metadata": {},
   "outputs": [
    {
     "output_type": "stream",
     "name": "stdout",
     "text": [
      "1 2 짝 4 5 짝 7 8 짝 10 11 12 짝 14 15 짝 17 18 짝 20 21 22 짝 24 25 짝 27 28 짝 짝 짝 짝 짝짝 짝 짝 짝짝 짝 짝 짝짝 40 \n"
     ]
    },
    {
     "output_type": "execute_result",
     "data": {
      "text/plain": [
       "22"
      ]
     },
     "metadata": {},
     "execution_count": 3
    }
   ],
   "source": [
    "# Q6\n",
    "def solution(number):\n",
    "    count = 0\n",
    "    for i in range(1, number + 1):\n",
    "        current = i\n",
    "        temp = count\n",
    "        while current != 0:\n",
    "            if current%10 == 3 or current%10 ==6 or current%10 ==9 :\n",
    "                count += 1\n",
    "                print(\"짝\", end = '')\n",
    "            current = current//10\n",
    "        if temp == count:\n",
    "            print(i, end = '')\n",
    "        print(\" \", end='')\n",
    "    print(\"\")\n",
    "    return count\n",
    "\n",
    "\n",
    "number = 40\n",
    "ret = solution(number)\n",
    "ret"
   ]
  },
  {
   "cell_type": "code",
   "execution_count": 4,
   "metadata": {},
   "outputs": [
    {
     "output_type": "execute_result",
     "data": {
      "text/plain": [
       "6"
      ]
     },
     "metadata": {},
     "execution_count": 4
    }
   ],
   "source": [
    "# Q7\n",
    "scores = [650, 722, 914, 558, 714, 803, 650, 679, 669, 800]\n",
    "\n",
    "def solution(scores):\n",
    "    count = 0\n",
    "    for s in scores:\n",
    "        if 650 <= s < 800:\n",
    "            count += 1\n",
    "    return count\n",
    "\n",
    "ret = solution(scores)\n",
    "ret"
   ]
  },
  {
   "cell_type": "code",
   "execution_count": 11,
   "metadata": {},
   "outputs": [
    {
     "output_type": "stream",
     "name": "stdout",
     "text": [
      "True\nFalse\n"
     ]
    }
   ],
   "source": [
    "# Q8\n",
    "def solution(sentence):\n",
    "    str = ''\n",
    "    for c in sentence:\n",
    "        if c != '.' and c != ' ':\n",
    "            str += c\n",
    "    size = len(str)\n",
    "    for i in range(size//2):\n",
    "        if str[i] != str[-(i+1)]:   # size - 1 -i 도 가능\n",
    "            return False\n",
    "    return True\n",
    "\n",
    "\n",
    "sentence1 = \"never odd or even\"\n",
    "ret1 = solution(sentence1)\n",
    "sentence2 = \"palidrome\"\n",
    "ret2 = solution(sentence2)\n",
    "\n",
    "print(ret1); print(ret2)\n"
   ]
  },
  {
   "cell_type": "code",
   "execution_count": 17,
   "metadata": {},
   "outputs": [
    {
     "output_type": "execute_result",
     "data": {
      "text/plain": [
       "'sentence'"
      ]
     },
     "metadata": {},
     "execution_count": 17
    }
   ],
   "source": [
    "# Q9\n",
    "def solution(characters):\n",
    "    result = \"\"\n",
    "    result += characters[0]\n",
    "    for i in range(1, len(characters)):\n",
    "        if characters[i-1] != characters[i]:\n",
    "            result += characters[i]\n",
    "    return result\n",
    "\n",
    "characters = \"senteeeeenccccccceeeeeeeee\"\n",
    "ret = solution(characters)\n",
    "ret"
   ]
  },
  {
   "cell_type": "code",
   "execution_count": 19,
   "metadata": {},
   "outputs": [
    {
     "output_type": "stream",
     "name": "stdout",
     "text": [
      "5\n9\n"
     ]
    }
   ],
   "source": [
    "# Q10\n",
    "data1 = [1,2,3,4,5,6,7,8,9,10]\n",
    "data2 = [1,1,1,1,1,1,1,1,1,10]\n",
    "\n",
    "def solution(data):\n",
    "    total = sum(data)\n",
    "    average = total/len(data)\n",
    "    cnt = 0\n",
    "    for d in data:\n",
    "        if d <= average:\n",
    "            cnt += 1\n",
    "    return cnt\n",
    "\n",
    "ret1 = solution(data1)\n",
    "ret2 = solution(data2)\n",
    "\n",
    "print(ret1); print(ret2)"
   ]
  },
  {
   "cell_type": "code",
   "execution_count": null,
   "metadata": {},
   "outputs": [],
   "source": []
  },
  {
   "cell_type": "code",
   "execution_count": null,
   "metadata": {},
   "outputs": [],
   "source": []
  }
 ]
}