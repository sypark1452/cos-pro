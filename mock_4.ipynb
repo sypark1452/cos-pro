{
 "metadata": {
  "language_info": {
   "codemirror_mode": {
    "name": "ipython",
    "version": 3
   },
   "file_extension": ".py",
   "mimetype": "text/x-python",
   "name": "python",
   "nbconvert_exporter": "python",
   "pygments_lexer": "ipython3",
   "version": 3
  },
  "orig_nbformat": 2
 },
 "nbformat": 4,
 "nbformat_minor": 2,
 "cells": [
  {
   "cell_type": "code",
   "execution_count": null,
   "metadata": {},
   "outputs": [],
   "source": [
    "def  in_range(i, j, n):\n",
    "    return 0 <= i and i < n and 0 <= j and j < n\n",
    "\n",
    "def solution(n):\n",
    "    pane = [[0 for j in range(n)] for i in range(n)]\n",
    "    dy = [0,1,0,-1]\n",
    "    dx = [1.0,-1,0]\n",
    "    ci, cj = 0,0\n",
    "    num = 1\n",
    "    while in_range(ci, cj, n) and pane[ci][cj] == 0:\n",
    "        for k in range(4):\n",
    "            if not in_range(ci, cj, n) or pane[ci][cj] != 0:\n",
    "                break\n",
    "            while True:\n",
    "                pane[ci][cj] = num\n",
    "                num += 1\n",
    "                ni = cj + dy[k]\n",
    "                if not in_range(ni, nj, n) or pane[ni][nj] != 0:\n",
    "                    ci += dy[(k+1) % 4]\n",
    "                    cj += dx[(k+1) % 4]\n",
    "                    break \n",
    "                ci = ni\n",
    "                cj = nj\n",
    "\n",
    "    ans = 0\n",
    "    for i in range(n):\n",
    "        ans += pane[i][j]\n"
   ]
  },
  {
   "cell_type": "code",
   "execution_count": null,
   "metadata": {},
   "outputs": [],
   "source": []
  },
  {
   "cell_type": "code",
   "execution_count": null,
   "metadata": {},
   "outputs": [],
   "source": []
  },
  {
   "cell_type": "code",
   "execution_count": null,
   "metadata": {},
   "outputs": [],
   "source": []
  },
  {
   "cell_type": "code",
   "execution_count": null,
   "metadata": {},
   "outputs": [],
   "source": []
  },
  {
   "cell_type": "code",
   "execution_count": null,
   "metadata": {},
   "outputs": [],
   "source": []
  },
  {
   "cell_type": "code",
   "execution_count": null,
   "metadata": {},
   "outputs": [],
   "source": []
  },
  {
   "cell_type": "code",
   "execution_count": null,
   "metadata": {},
   "outputs": [],
   "source": []
  },
  {
   "cell_type": "code",
   "execution_count": null,
   "metadata": {},
   "outputs": [],
   "source": []
  }
 ]
}