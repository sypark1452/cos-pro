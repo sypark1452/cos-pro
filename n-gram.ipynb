{
 "metadata": {
  "language_info": {
   "codemirror_mode": {
    "name": "ipython",
    "version": 3
   },
   "file_extension": ".py",
   "mimetype": "text/x-python",
   "name": "python",
   "nbconvert_exporter": "python",
   "pygments_lexer": "ipython3",
   "version": "3.8.5-final"
  },
  "orig_nbformat": 2,
  "kernelspec": {
   "name": "python3",
   "display_name": "Python 3",
   "language": "python"
  }
 },
 "nbformat": 4,
 "nbformat_minor": 2,
 "cells": [
  {
   "cell_type": "code",
   "execution_count": 3,
   "metadata": {},
   "outputs": [
    {
     "output_type": "stream",
     "name": "stdout",
     "text": [
      "False\n"
     ]
    }
   ],
   "source": [
    "# 회문판별\n",
    "word = input('press the word')\n",
    "\n",
    "tf = True\n",
    "\n",
    "for i in range(len(word)//2):\n",
    "    if word[i] != word[-1-i]:\n",
    "        tf = False\n",
    "        break\n",
    "print(tf)"
   ]
  },
  {
   "cell_type": "code",
   "execution_count": 4,
   "metadata": {},
   "outputs": [
    {
     "output_type": "stream",
     "name": "stdout",
     "text": [
      "h e\ne l\nl l\nl o\n"
     ]
    }
   ],
   "source": [
    "# n-gram\n",
    "# 문자열에서 N개의 연속된 요소를 추출하는 방법\n",
    "text = 'hello'\n",
    "for i in range(len(text)-1):\n",
    "    print(text[i], text[i+1], sep=' ')"
   ]
  },
  {
   "cell_type": "code",
   "execution_count": 5,
   "metadata": {},
   "outputs": [
    {
     "output_type": "stream",
     "name": "stdout",
     "text": [
      "h e l\ne l l\nl l o\n"
     ]
    }
   ],
   "source": [
    "text = 'hello'\n",
    "for i in range(len(text)-2):\n",
    "    print(text[i], text[i+1], text[i+2], sep=' ')"
   ]
  },
  {
   "cell_type": "code",
   "execution_count": 6,
   "metadata": {},
   "outputs": [
    {
     "output_type": "stream",
     "name": "stdout",
     "text": [
      "hello\n"
     ]
    }
   ],
   "source": [
    "def h():\n",
    "    print('hello')\n",
    "\n",
    "h()"
   ]
  },
  {
   "cell_type": "code",
   "execution_count": 7,
   "metadata": {},
   "outputs": [
    {
     "output_type": "stream",
     "name": "stdout",
     "text": [
      "5\n"
     ]
    }
   ],
   "source": [
    "def add(a,b):\n",
    "    print(a+b)\n",
    "\n",
    "add(2,3)"
   ]
  },
  {
   "cell_type": "code",
   "execution_count": 8,
   "metadata": {},
   "outputs": [
    {
     "output_type": "stream",
     "name": "stdout",
     "text": [
      "6\n"
     ]
    }
   ],
   "source": [
    "def add2(a,b):\n",
    "    return a+b\n",
    "\n",
    "x = add2(2,4)\n",
    "print(x)"
   ]
  },
  {
   "cell_type": "code",
   "execution_count": 10,
   "metadata": {},
   "outputs": [
    {
     "output_type": "stream",
     "name": "stdout",
     "text": [
      "50\n-10\n"
     ]
    }
   ],
   "source": [
    "# 여러 개 반환하기\n",
    "def add_sub(a,b):\n",
    "    return a+b, a-b\n",
    "\n",
    "x,y= add_sub(20,30)\n",
    "print(x); print(y)"
   ]
  },
  {
   "source": [
    "# 함수 호출 과정\n",
    "def mul(a,b):\n",
    "    c = a*b\n",
    "    return c\n",
    "\n",
    "def add(a,b):\n",
    "    c = a+b\n",
    "    print(c)\n",
    "    d = mul(a,b)\n",
    "    print(d)\n",
    "\n",
    "x= 20\n",
    "y = 30\n",
    "add(x,y)\n"
   ],
   "cell_type": "code",
   "metadata": {},
   "execution_count": 11,
   "outputs": [
    {
     "output_type": "stream",
     "name": "stdout",
     "text": [
      "50\n600\n"
     ]
    }
   ]
  },
  {
   "cell_type": "code",
   "execution_count": 12,
   "metadata": {},
   "outputs": [],
   "source": [
    "x = 20\n",
    "y =3"
   ]
  },
  {
   "cell_type": "code",
   "execution_count": 20,
   "metadata": {},
   "outputs": [
    {
     "output_type": "stream",
     "name": "stdout",
     "text": [
      "몫:6 나머지: 2\n"
     ]
    }
   ],
   "source": [
    "# 몫과 나머지를 구하는 함수\n",
    "x = 20\n",
    "y = 3\n",
    "\n",
    "def div(a,b):\n",
    "    return a//b, a%b\n",
    "   \n",
    "q,r = div(x,y)\n",
    "print('몫:{0} 나머지: {1}'.format(q,r))"
   ]
  }
 ]
}