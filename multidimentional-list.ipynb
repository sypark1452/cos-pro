{
 "metadata": {
  "language_info": {
   "codemirror_mode": {
    "name": "ipython",
    "version": 3
   },
   "file_extension": ".py",
   "mimetype": "text/x-python",
   "name": "python",
   "nbconvert_exporter": "python",
   "pygments_lexer": "ipython3",
   "version": "3.8.5-final"
  },
  "orig_nbformat": 2,
  "kernelspec": {
   "name": "python3",
   "display_name": "Python 3",
   "language": "python"
  }
 },
 "nbformat": 4,
 "nbformat_minor": 2,
 "cells": [
  {
   "cell_type": "code",
   "execution_count": 1,
   "metadata": {},
   "outputs": [
    {
     "output_type": "execute_result",
     "data": {
      "text/plain": [
       "[[10, 20], [30, 40], [50, 60]]"
      ]
     },
     "metadata": {},
     "execution_count": 1
    }
   ],
   "source": [
    "# 2차원 리스트\n",
    "a = [[10,20], [30,40], [50,60]]\n",
    "a"
   ]
  },
  {
   "cell_type": "code",
   "execution_count": 3,
   "metadata": {},
   "outputs": [
    {
     "output_type": "execute_result",
     "data": {
      "text/plain": [
       "10"
      ]
     },
     "metadata": {},
     "execution_count": 3
    }
   ],
   "source": [
    "a[0][0]"
   ]
  },
  {
   "cell_type": "code",
   "execution_count": 4,
   "metadata": {},
   "outputs": [
    {
     "output_type": "execute_result",
     "data": {
      "text/plain": [
       "[30, 40]"
      ]
     },
     "metadata": {},
     "execution_count": 4
    }
   ],
   "source": [
    "a[1]"
   ]
  },
  {
   "cell_type": "code",
   "execution_count": 5,
   "metadata": {},
   "outputs": [
    {
     "output_type": "stream",
     "name": "stdout",
     "text": [
      "10 20\n30 40\n50 60\n"
     ]
    }
   ],
   "source": [
    "for i,j in a:\n",
    "    print(i,j)"
   ]
  },
  {
   "cell_type": "code",
   "execution_count": 6,
   "metadata": {},
   "outputs": [
    {
     "output_type": "stream",
     "name": "stdout",
     "text": [
      "10 20 \n30 40 \n50 60 \n"
     ]
    }
   ],
   "source": [
    "for i in a:\n",
    "    for j in i:\n",
    "        print(j, end=' ')\n",
    "    print()    # 줄 바꿈"
   ]
  },
  {
   "cell_type": "code",
   "execution_count": 7,
   "metadata": {},
   "outputs": [
    {
     "output_type": "stream",
     "name": "stdout",
     "text": [
      "10 20 30 40 50 60 "
     ]
    }
   ],
   "source": [
    "for i in a:\n",
    "    for j in i:\n",
    "        print(j, end=' ')"
   ]
  },
  {
   "cell_type": "code",
   "execution_count": 8,
   "metadata": {},
   "outputs": [
    {
     "output_type": "stream",
     "name": "stdout",
     "text": [
      "[[0, 0], [0, 0], [0, 0]]\n"
     ]
    }
   ],
   "source": [
    "# 반복문으로 2차원 리스트 만들기\n",
    "a = []\n",
    "for i in range(3):\n",
    "    line = []\n",
    "    for j in range(2):\n",
    "        line.append(0)\n",
    "    a.append(line)\n",
    "\n",
    "print(a)"
   ]
  },
  {
   "cell_type": "code",
   "execution_count": 11,
   "metadata": {},
   "outputs": [
    {
     "output_type": "execute_result",
     "data": {
      "text/plain": [
       "[1.2, 2.3, 5.6, 8.9]"
      ]
     },
     "metadata": {},
     "execution_count": 11
    }
   ],
   "source": [
    "a = [1.2,2.3,5.6,8.9]\n",
    "a"
   ]
  },
  {
   "cell_type": "code",
   "execution_count": 12,
   "metadata": {},
   "outputs": [
    {
     "output_type": "stream",
     "name": "stdout",
     "text": [
      "[1, 2, 5, 8]\n"
     ]
    }
   ],
   "source": [
    "# 정수화\n",
    "for i in range(len(a)):\n",
    "    a[i] = int(a[i])\n",
    "\n",
    "print(a)"
   ]
  },
  {
   "cell_type": "code",
   "execution_count": 13,
   "metadata": {},
   "outputs": [
    {
     "output_type": "execute_result",
     "data": {
      "text/plain": [
       "[1, 2, 5, 8]"
      ]
     },
     "metadata": {},
     "execution_count": 13
    }
   ],
   "source": [
    "# 정수화\n",
    "a = [1.2, 2.3, 5.6, 8.9]\n",
    "a = list(map(int, a))\n",
    "a"
   ]
  },
  {
   "cell_type": "code",
   "execution_count": 14,
   "metadata": {},
   "outputs": [],
   "source": [
    "a = (38, 20, 15, 46,79)"
   ]
  },
  {
   "cell_type": "code",
   "execution_count": 15,
   "metadata": {},
   "outputs": [
    {
     "output_type": "execute_result",
     "data": {
      "text/plain": [
       "2"
      ]
     },
     "metadata": {},
     "execution_count": 15
    }
   ],
   "source": [
    "a.index(15)"
   ]
  },
  {
   "cell_type": "code",
   "execution_count": 16,
   "metadata": {},
   "outputs": [
    {
     "output_type": "execute_result",
     "data": {
      "text/plain": [
       "1"
      ]
     },
     "metadata": {},
     "execution_count": 16
    }
   ],
   "source": [
    "a.count(20)"
   ]
  },
  {
   "cell_type": "code",
   "execution_count": 17,
   "metadata": {},
   "outputs": [],
   "source": [
    "a = (10, 20, 30)\n",
    "b = (1, 2, 3)"
   ]
  },
  {
   "cell_type": "code",
   "execution_count": 18,
   "metadata": {},
   "outputs": [
    {
     "output_type": "execute_result",
     "data": {
      "text/plain": [
       "(10, 20, 30, 1, 2, 3)"
      ]
     },
     "metadata": {},
     "execution_count": 18
    }
   ],
   "source": [
    "c = a+b\n",
    "c"
   ]
  },
  {
   "cell_type": "code",
   "execution_count": 19,
   "metadata": {},
   "outputs": [
    {
     "output_type": "execute_result",
     "data": {
      "text/plain": [
       "(10, 20, 30, 10, 20, 30, 10, 20, 30)"
      ]
     },
     "metadata": {},
     "execution_count": 19
    }
   ],
   "source": [
    "d = a*3\n",
    "d"
   ]
  },
  {
   "cell_type": "code",
   "execution_count": 20,
   "metadata": {},
   "outputs": [
    {
     "output_type": "execute_result",
     "data": {
      "text/plain": [
       "True"
      ]
     },
     "metadata": {},
     "execution_count": 20
    }
   ],
   "source": [
    "20 in a"
   ]
  },
  {
   "cell_type": "code",
   "execution_count": 22,
   "metadata": {},
   "outputs": [
    {
     "output_type": "stream",
     "name": "stdout",
     "text": [
      "10 20 30 10 20 30 10 20 30 "
     ]
    }
   ],
   "source": [
    "for i in d:\n",
    "    print(i, end=' ')"
   ]
  },
  {
   "cell_type": "code",
   "execution_count": 25,
   "metadata": {},
   "outputs": [
    {
     "output_type": "stream",
     "name": "stdout",
     "text": [
      "10\n30\n"
     ]
    }
   ],
   "source": [
    "print(min(d)); print(max(d))"
   ]
  },
  {
   "cell_type": "code",
   "execution_count": 26,
   "metadata": {},
   "outputs": [
    {
     "output_type": "stream",
     "name": "stdout",
     "text": [
      "[[0, 0], [0, 0], [0, 0]]\n"
     ]
    }
   ],
   "source": [
    "a = []\n",
    "\n",
    "for i in range(3):\n",
    "    line = []\n",
    "    for j in range(2):\n",
    "        line.append(0)\n",
    "    a.append(line)\n",
    "\n",
    "print(a)"
   ]
  }
 ]
}