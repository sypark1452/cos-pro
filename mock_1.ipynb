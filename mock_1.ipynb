{
 "metadata": {
  "language_info": {
   "codemirror_mode": {
    "name": "ipython",
    "version": 3
   },
   "file_extension": ".py",
   "mimetype": "text/x-python",
   "name": "python",
   "nbconvert_exporter": "python",
   "pygments_lexer": "ipython3",
   "version": "3.8.5-final"
  },
  "orig_nbformat": 2,
  "kernelspec": {
   "name": "python3",
   "display_name": "Python 3",
   "language": "python"
  }
 },
 "nbformat": 4,
 "nbformat_minor": 2,
 "cells": [
  {
   "cell_type": "code",
   "execution_count": 2,
   "metadata": {},
   "outputs": [
    {
     "output_type": "stream",
     "name": "stdout",
     "text": [
      "solution 함수의 반환 값은 [1, 2, 0, 2, 1, 0]  입니다.\n"
     ]
    }
   ],
   "source": [
    "# Q1\n",
    "shirt_size = [\"XS\", \"S\", \"L\", \"L\", \"XL\", \"S\"]\n",
    "\n",
    "def solution(shirt_size):\n",
    "    answer = []\n",
    "    answer = [0 for i in range(6)]\n",
    "    for ss in shirt_size:\n",
    "        if ss == \"XS\":\n",
    "            answer[0] += 1\n",
    "        elif ss == \"S\":\n",
    "            answer[1] += 1\n",
    "        elif ss == \"M\":\n",
    "            answer[2] += 1\n",
    "        elif ss == \"L\":\n",
    "            answer[3] += 1\n",
    "        elif ss == \"XL\":\n",
    "            answer[4] += 1\n",
    "        elif ss == \"XXL\":\n",
    "            answer[5] += 1\n",
    "    return answer\n",
    "\n",
    "\n",
    "ret = solution(shirt_size)\n",
    "print('solution 함수의 반환 값은', ret, ' 입니다.')"
   ]
  },
  {
   "cell_type": "code",
   "execution_count": 5,
   "metadata": {},
   "outputs": [
    {
     "output_type": "stream",
     "name": "stdout",
     "text": [
      "2500 원의 15%는  375 원 입니다. 2500 - 375 = 2125 입니다.\n96900 원의 5%는  4845 원 입니다. 96900 - 4845 = 92055 입니다.\n"
     ]
    }
   ],
   "source": [
    "# Q2\n",
    "price = [2500, 96900]\n",
    "grade = [\"V\", \"S\"]\n",
    "# \"S\" : 5%, \"G\": 10%, \"V\" : 15%\n",
    "def solution(price, grade):\n",
    "    for i in range(len(price)):\n",
    "        pr = price[i]\n",
    "        gr = grade[i]\n",
    "        if gr == \"S\":\n",
    "             print(pr, '원의 5%는 ', int(pr*0.05), '원 입니다.', pr, '-', int(pr*0.05), '=', int(pr*0.95), '입니다.')\n",
    "        elif gr == \"G\":\n",
    "             print(pr, '원의 10%는 ', int(pr*0.1), '원 입니다.', pr, '-', int(pr*0.1), '=', int(pr*0.9), '입니다.')\n",
    "        elif gr == \"V\":\n",
    "             print(pr, '원의 15%는 ', int(pr*0.15), '원 입니다.', pr, '-', int(pr*0.15), '=', int(pr*0.85), '입니다.')\n",
    "\n",
    "        \n",
    "solution(price, grade)"
   ]
  },
  {
   "cell_type": "code",
   "execution_count": 7,
   "metadata": {},
   "outputs": [
    {
     "output_type": "execute_result",
     "data": {
      "text/plain": [
       "[1]"
      ]
     },
     "metadata": {},
     "execution_count": 7
    }
   ],
   "source": [
    "ls = [1,2,3]\n",
    "ls[:1]"
   ]
  },
  {
   "cell_type": "code",
   "execution_count": 21,
   "metadata": {},
   "outputs": [
    {
     "output_type": "stream",
     "name": "stdout",
     "text": [
      "solution 함수의 반환 값은 31 입니다.\n"
     ]
    }
   ],
   "source": [
    "# Q3\n",
    "def func_a(month, day):\n",
    "    month_list = [31,28,31,30,31,30,31,31,30,31,30,31]\n",
    "    total = 0\n",
    "    for i in range(month - 1):\n",
    "            total += month_list[i]\n",
    "    total += day\n",
    "    return total - 1\n",
    "\n",
    "def solution(start_month, start_day, end_month, end_day):\n",
    "    start_total = func_a(start_month, start_day)\n",
    "    end_total = func_a(end_month, end_day)\n",
    "    return end_total - start_total \n",
    "\n",
    "\n",
    "start_month = 1\n",
    "start_day = 2\n",
    "end_month = 2\n",
    "end_day = 2\n",
    "ret = solution(start_month, start_day, end_month, end_day)\n",
    "\n",
    "print(\"solution 함수의 반환 값은\", ret, \"입니다.\")"
   ]
  },
  {
   "cell_type": "code",
   "execution_count": 22,
   "metadata": {},
   "outputs": [
    {
     "output_type": "execute_result",
     "data": {
      "text/plain": [
       "4"
      ]
     },
     "metadata": {},
     "execution_count": 22
    }
   ],
   "source": [
    "# Q4\n",
    "arr = [1,2,3,4,1,3,3,2,3,2]\n",
    "\n",
    "def func_a(arr):\n",
    "    counter = [0 for i in range(1001)]\n",
    "    for x in arr:\n",
    "        counter[x] += 1\n",
    "    return counter\n",
    "\n",
    "def func_b(arr):\n",
    "    ret = 0\n",
    "    for x in arr:\n",
    "        if ret < x:\n",
    "            ret = x\n",
    "    return ret\n",
    "\n",
    "def func_c(arr):\n",
    "    INF = 1001\n",
    "    ret = INF\n",
    "    for x in arr:\n",
    "        if x != 0 and ret > x:\n",
    "            ret = x\n",
    "    return ret\n",
    "\n",
    "def solution(arr):\n",
    "    counter = func_a(arr)\n",
    "    max_cnt = func_b(counter)\n",
    "    min_cnt = func_c(counter)\n",
    "    return max_cnt//min_cnt\n",
    "\n",
    "ret = solution(arr)\n",
    "ret"
   ]
  },
  {
   "cell_type": "code",
   "execution_count": 26,
   "metadata": {},
   "outputs": [
    {
     "output_type": "execute_result",
     "data": {
      "text/plain": [
       "[3, 2, 4, 1]"
      ]
     },
     "metadata": {},
     "execution_count": 26
    }
   ],
   "source": [
    "# Q5\n",
    "arr = [1,4,2,3]\n",
    "\n",
    "def solution(arr):\n",
    "    left, right = 0, len(arr) - 1\n",
    "    while left < right:\n",
    "        arr[left], arr[right] = arr[right], arr[left]\n",
    "        left += 1\n",
    "        right -= 1\n",
    "    return arr\n",
    "\n",
    "ret = solution(arr)\n",
    "ret"
   ]
  }
 ]
}