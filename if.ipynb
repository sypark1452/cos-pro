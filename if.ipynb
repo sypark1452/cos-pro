{
 "metadata": {
  "language_info": {
   "codemirror_mode": {
    "name": "ipython",
    "version": 3
   },
   "file_extension": ".py",
   "mimetype": "text/x-python",
   "name": "python",
   "nbconvert_exporter": "python",
   "pygments_lexer": "ipython3",
   "version": "3.8.5-final"
  },
  "orig_nbformat": 2,
  "kernelspec": {
   "name": "python3",
   "display_name": "Python 3",
   "language": "python"
  }
 },
 "nbformat": 4,
 "nbformat_minor": 2,
 "cells": [
  {
   "cell_type": "code",
   "execution_count": 1,
   "metadata": {},
   "outputs": [],
   "source": [
    "x = 10"
   ]
  },
  {
   "cell_type": "code",
   "execution_count": 2,
   "metadata": {},
   "outputs": [
    {
     "output_type": "stream",
     "name": "stdout",
     "text": [
      "this is 10\n"
     ]
    }
   ],
   "source": [
    "if x == 10:\n",
    "    print('this is 10')"
   ]
  },
  {
   "cell_type": "code",
   "execution_count": 3,
   "metadata": {},
   "outputs": [],
   "source": [
    "x = 5\n",
    "\n",
    "if x == 10:\n",
    "    print('this is 10')"
   ]
  },
  {
   "cell_type": "code",
   "execution_count": 6,
   "metadata": {},
   "outputs": [
    {
     "output_type": "stream",
     "name": "stdout",
     "text": [
      "10이상\n20입니다\n"
     ]
    }
   ],
   "source": [
    "x = 20\n",
    "if x >= 10:\n",
    "    print('10이상')\n",
    "    if x == 15:\n",
    "        print('15입니다')\n",
    "    if x == 20:\n",
    "        print('20입니다')"
   ]
  },
  {
   "source": [
    "x = int(input('press the number'))\n",
    "if x == 10:\n",
    "    print('this is 10')\n",
    "if x == 20:\n",
    "    print('this is 20')"
   ],
   "cell_type": "code",
   "metadata": {},
   "execution_count": 8,
   "outputs": [
    {
     "output_type": "stream",
     "name": "stdout",
     "text": [
      "this is 10\n"
     ]
    }
   ]
  },
  {
   "cell_type": "code",
   "execution_count": 9,
   "metadata": {},
   "outputs": [
    {
     "output_type": "stream",
     "name": "stdout",
     "text": [
      "this is not 10\n"
     ]
    }
   ],
   "source": [
    "x = 5\n",
    "if x == 10:\n",
    "    print('this is 10')\n",
    "else:\n",
    "    print('this is not 10')"
   ]
  },
  {
   "cell_type": "code",
   "execution_count": 11,
   "metadata": {},
   "outputs": [
    {
     "output_type": "stream",
     "name": "stdout",
     "text": [
      "this is 20\n"
     ]
    }
   ],
   "source": [
    "x = 20\n",
    "y = 12\n",
    "\n",
    "if x == 10:\n",
    "    print('this is 10')\n",
    "elif x == 20:\n",
    "    print('this is 20')\n",
    "else:\n",
    "    print(False)"
   ]
  },
  {
   "cell_type": "code",
   "execution_count": 14,
   "metadata": {},
   "outputs": [
    {
     "output_type": "stream",
     "name": "stdout",
     "text": [
      "fail\n"
     ]
    }
   ],
   "source": [
    "writtenTest = 80\n",
    "toeic= 920\n",
    "\n",
    "if writtenTest >= 85 and toeic >= 900:\n",
    "    print('Pass')\n",
    "else:\n",
    "    print('fail')"
   ]
  },
  {
   "cell_type": "code",
   "execution_count": 17,
   "metadata": {},
   "outputs": [
    {
     "output_type": "stream",
     "name": "stdout",
     "text": [
      "11~20\n"
     ]
    }
   ],
   "source": [
    "x = 15\n",
    "\n",
    "if 1<=x<=10:\n",
    "    print('1~10')\n",
    "elif 11<=x<=20:\n",
    "    print('11~20')\n",
    "else:\n",
    "    print('None')"
   ]
  }
 ]
}