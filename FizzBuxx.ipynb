{
 "metadata": {
  "language_info": {
   "codemirror_mode": {
    "name": "ipython",
    "version": 3
   },
   "file_extension": ".py",
   "mimetype": "text/x-python",
   "name": "python",
   "nbconvert_exporter": "python",
   "pygments_lexer": "ipython3",
   "version": "3.8.5-final"
  },
  "orig_nbformat": 2,
  "kernelspec": {
   "name": "python3",
   "display_name": "Python 3",
   "language": "python"
  }
 },
 "nbformat": 4,
 "nbformat_minor": 2,
 "cells": [
  {
   "cell_type": "code",
   "execution_count": null,
   "metadata": {},
   "outputs": [],
   "source": [
    "# 1 ~ 50\n",
    "# 3 ~ fizz\n",
    "# 5 ~ buzz\n",
    "# 3&5 ~ fizzbuzz"
   ]
  },
  {
   "cell_type": "code",
   "execution_count": 6,
   "metadata": {},
   "outputs": [
    {
     "output_type": "stream",
     "name": "stdout",
     "text": [
      "1\n2\nFizz\n4\nBuzz\nFizz\n7\n8\nFizz\nBuzz\n11\nFizz\n13\n14\nFizzBuzz\n16\n17\nFizz\n19\nBuzz\nFizz\n22\n23\nFizz\nBuzz\n26\nFizz\n28\n29\nFizzBuzz\n"
     ]
    }
   ],
   "source": [
    "for i in range(1, 31):\n",
    "    if i % 3 == 0 and i % 5 == 0:  # 먼저 해야함\n",
    "        print('FizzBuzz')\n",
    "    elif i % 3 == 0:\n",
    "        print('Fizz')\n",
    "    elif i % 5 == 0:\n",
    "        print('Buzz') \n",
    "    else:\n",
    "        print(i)"
   ]
  },
  {
   "cell_type": "code",
   "execution_count": 7,
   "metadata": {},
   "outputs": [
    {
     "output_type": "stream",
     "name": "stdout",
     "text": [
      "1\n2\n3\n4\n5\n6\n7\n8\n"
     ]
    }
   ],
   "source": [
    "# 입력한 횟수대로 반복하기\n",
    "count = int(input('press the number'))\n",
    "i = 1\n",
    "\n",
    "while True:\n",
    "    print(i)\n",
    "    if i == count:\n",
    "        break\n",
    "    i += 1"
   ]
  },
  {
   "cell_type": "code",
   "execution_count": 8,
   "metadata": {},
   "outputs": [
    {
     "output_type": "stream",
     "name": "stdout",
     "text": [
      "2\n4\n6\n8\n"
     ]
    }
   ],
   "source": [
    "# 입력한 숫자까지 짝수 출력하기\n",
    "count = int(input('press the number'))\n",
    "\n",
    "for i in range(1, count+1):\n",
    "    if i % 2 !=0:\n",
    "        continue\n",
    "    print(i)"
   ]
  },
  {
   "cell_type": "code",
   "execution_count": 10,
   "metadata": {},
   "outputs": [
    {
     "output_type": "stream",
     "name": "stdout",
     "text": [
      "2\n4\n6\n8\n"
     ]
    }
   ],
   "source": [
    "count = int(input('press the number'))\n",
    "i = 1\n",
    "\n",
    "while True:\n",
    "    if i % 2 == 0:\n",
    "        print(i)\n",
    "    if i > count:\n",
    "        break\n",
    "    i += 1"
   ]
  },
  {
   "cell_type": "code",
   "execution_count": 11,
   "metadata": {},
   "outputs": [
    {
     "output_type": "stream",
     "name": "stdout",
     "text": [
      "5\n15\n25\n35\n45\n"
     ]
    }
   ],
   "source": [
    "# 1 ~50 : 5로 끝나는 숫자만 출력\n",
    "i = 0\n",
    "\n",
    "while True:\n",
    "    if i >= 5 and i % 10 == 5:\n",
    "        print(i)\n",
    "    if i > 50:\n",
    "        break\n",
    "    i += 1"
   ]
  },
  {
   "cell_type": "code",
   "execution_count": 14,
   "metadata": {
    "tags": []
   },
   "outputs": [
    {
     "output_type": "stream",
     "name": "stdout",
     "text": [
      "5 15 25 35 45 "
     ]
    }
   ],
   "source": [
    "i = 0 \n",
    "\n",
    "while True:\n",
    "    if i % 10 != 5:\n",
    "        i += 1\n",
    "        continue\n",
    "    if i > 50:\n",
    "        break\n",
    "    print(i, end =' ')\n",
    "    i += 1"
   ]
  },
  {
   "cell_type": "code",
   "execution_count": 15,
   "metadata": {},
   "outputs": [
    {
     "output_type": "stream",
     "name": "stdout",
     "text": [
      "1\n2\nFizz\n4\n5\nFizz\nBuzz\n8\nFizz\n10\n11\nFizz\n13\nBuzz\nFizz\n16\n17\nFizz\n19\n20\nFizzBuzz\n22\n23\nFizz\n25\n26\nFizz\nBuzz\n29\nFizz\n31\n32\nFizz\n34\nBuzz\nFizz\n37\n38\nFizz\n40\n41\nFizzBuzz\n43\n44\nFizz\n46\n47\nFizz\nBuzz\n50\n"
     ]
    }
   ],
   "source": [
    "for i in range(1, 51):\n",
    "    if i % 21 == 0:\n",
    "        print('FizzBuzz')\n",
    "    elif i % 3 == 0:\n",
    "        print('Fizz')\n",
    "    elif i % 7 == 0:\n",
    "        print('Buzz')\n",
    "    else:\n",
    "        print(i)"
   ]
  }
 ]
}