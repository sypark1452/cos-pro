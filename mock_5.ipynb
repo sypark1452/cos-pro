{
 "metadata": {
  "language_info": {
   "codemirror_mode": {
    "name": "ipython",
    "version": 3
   },
   "file_extension": ".py",
   "mimetype": "text/x-python",
   "name": "python",
   "nbconvert_exporter": "python",
   "pygments_lexer": "ipython3",
   "version": "3.8.5-final"
  },
  "orig_nbformat": 2,
  "kernelspec": {
   "name": "python3",
   "display_name": "Python 3",
   "language": "python"
  }
 },
 "nbformat": 4,
 "nbformat_minor": 2,
 "cells": [
  {
   "cell_type": "code",
   "execution_count": 6,
   "metadata": {},
   "outputs": [
    {
     "output_type": "execute_result",
     "data": {
      "text/plain": [
       "[-2, 0, 1, 3, 5, 5, 9]"
      ]
     },
     "metadata": {},
     "execution_count": 6
    }
   ],
   "source": [
    "# Q7\n",
    "arrA = [-2,3,5,9]\n",
    "arrB = [0,1,5]\n",
    "\n",
    "def solution(arrA, arrB):\n",
    "    arrA_idx = 0\n",
    "    arrB_idx = 0\n",
    "    arrA_len = len(arrA)\n",
    "    arrB_len = len(arrB)\n",
    "    answer = []\n",
    "    while arrA_idx < arrA_len and arrB_idx < arrB_len:\n",
    "        if arrA[arrA_idx] < arrB[arrB_idx]:\n",
    "            answer.append(arrA[arrA_idx])\n",
    "            arrA_idx += 1\n",
    "        else:\n",
    "            answer.append(arrB[arrB_idx])\n",
    "            arrB_idx += 1\n",
    "    while arrA_idx < arrA_len :\n",
    "        answer.append(arrA[arrA_idx])\n",
    "        arrA_idx += 1\n",
    "    while arrB_idx < arrB_len:\n",
    "        answer.append(arrB[arrB_idx])\n",
    "        arrB_idx += 1\n",
    "    return answer\n",
    "\n",
    "\n",
    "\n",
    "ret = solution(arrA, arrB)\n",
    "ret"
   ]
  },
  {
   "cell_type": "code",
   "execution_count": 10,
   "metadata": {},
   "outputs": [
    {
     "output_type": "stream",
     "name": "stdout",
     "text": [
      "[5]\n[2, 3]\n"
     ]
    }
   ],
   "source": [
    "# Q8\n",
    "def solution(N, votes):\n",
    "    vote_counter = [0 for i in range(N+1)]\n",
    "    for i in votes:\n",
    "        vote_counter[i] += 1\n",
    "\n",
    "    max_val = max(vote_counter)\n",
    "\n",
    "    answer = []\n",
    "    for idx in range(1, N+1):\n",
    "        if vote_counter[idx] == max_val:\n",
    "            answer.append(idx)   #해당 인덱스 입력\n",
    "    return answer\n",
    "\n",
    "N1 = 5\n",
    "votes1 = [1,5,4,3,2,5,2,5,5,4]\n",
    "ret1 = solution(N1, votes1)\n",
    "\n",
    "N2 = 4\n",
    "votes2 = [1,3,2,3,2]\n",
    "ret2 = solution(N2, votes2)\n",
    "\n",
    "print(ret1); print(ret2)"
   ]
  },
  {
   "cell_type": "code",
   "execution_count": 12,
   "metadata": {},
   "outputs": [
    {
     "output_type": "execute_result",
     "data": {
      "text/plain": [
       "14"
      ]
     },
     "metadata": {},
     "execution_count": 12
    }
   ],
   "source": [
    "# Q9\n",
    "def func(record):\n",
    "    if record == 0:\n",
    "        return 1\n",
    "    elif record == 1:\n",
    "        return 2\n",
    "    return 0\n",
    "\n",
    "def solution(recordA, recordB):\n",
    "    cnt  = 0\n",
    "    for i in range(len(recordA)):\n",
    "        if recordA[i] == recordB[i]:\n",
    "            continue\n",
    "        elif recordA[i] == func(recordB[i]):\n",
    "            cnt = cnt + 3\n",
    "        else:\n",
    "            cnt = max(0, cnt - 1)   # 0보다 아래로 내려가면 안됨\n",
    "    return cnt\n",
    "\n",
    "\n",
    "recordA = [2,0,0,0,0,0,1,1,0,0]\n",
    "recordB = [0,0,0,0,2,2,0,2,2,2]\n",
    "ret = solution(recordA, recordB)\n",
    "ret"
   ]
  },
  {
   "cell_type": "code",
   "execution_count": 14,
   "metadata": {},
   "outputs": [
    {
     "output_type": "stream",
     "name": "stdout",
     "text": [
      "2\n-2\n"
     ]
    }
   ],
   "source": [
    "# Q10\n",
    "def solution(prices):\n",
    "    INF = 1000000001\n",
    "    tmp = INF\n",
    "    answer = -INF\n",
    "    for price in prices:\n",
    "        if tmp != INF:\n",
    "            answer = max(answer, price - tmp)\n",
    "        tmp = min(tmp, price)\n",
    "    return answer\n",
    "\n",
    "\n",
    "prices1 = [1,2,3]\n",
    "ret1 = solution(prices1)\n",
    "\n",
    "prices2 = [3,1]\n",
    "ret2 = solution(prices2)\n",
    "\n",
    "print(ret1); print(ret2)"
   ]
  }
 ]
}