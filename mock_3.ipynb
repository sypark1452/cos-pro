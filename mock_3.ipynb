{
 "metadata": {
  "language_info": {
   "codemirror_mode": {
    "name": "ipython",
    "version": 3
   },
   "file_extension": ".py",
   "mimetype": "text/x-python",
   "name": "python",
   "nbconvert_exporter": "python",
   "pygments_lexer": "ipython3",
   "version": "3.8.5-final"
  },
  "orig_nbformat": 2,
  "kernelspec": {
   "name": "python3",
   "display_name": "Python 3",
   "language": "python"
  }
 },
 "nbformat": 4,
 "nbformat_minor": 2,
 "cells": [
  {
   "cell_type": "code",
   "execution_count": 2,
   "metadata": {},
   "outputs": [],
   "source": [
    "# 추상클래스(abstract class)\n",
    "# 메서드의 목록만 가진 클래스이며 상속받는 클래스에서 메서드 구현을 강제하기 위해 사용\n",
    "# 추상 클래스는 파생 클래스가 반드시 구현해야 하는 메서들를 정해줄 수 있습니다.\n",
    "# 추상 클래스는 인스턴스로 만들 때는 사용하지 않으며 오로지 상속에만 사용.\n",
    "# 그리고 파생 클래스에 반드시 구현해야 할 메서드를 정해 줄 때 사용\n",
    "# 추상 메서드는 호출할 일이 없으므로 빈 메서드로 만듦"
   ]
  },
  {
   "cell_type": "code",
   "execution_count": 10,
   "metadata": {},
   "outputs": [
    {
     "output_type": "execute_result",
     "data": {
      "text/plain": [
       "51600"
      ]
     },
     "metadata": {},
     "execution_count": 10
    }
   ],
   "source": [
    "# Q1\n",
    "from abc import *\n",
    "\n",
    "class DeliveryStore(metaclass=ABCMeta):\n",
    "    @abstractmethod    \n",
    "    def set_order_list(self, order_list):\n",
    "        pass    \n",
    "\n",
    "    @abstractmethod\n",
    "    def get_total_price(self):\n",
    "        pass\n",
    "\n",
    "class Food:\n",
    "    def __init__(self, name, price):\n",
    "        self.name = name\n",
    "        self.price = price\n",
    "\n",
    "class PizzaStore(DeliveryStore):\n",
    "    def __init__(self):\n",
    "        menu_names = [\"Cheese\", \"Potato\", \"Shrimp\", \"Pineapple\", \"Meatball\"]\n",
    "        menu_price = [11100, 12600, 13300, 21000, 19500]\n",
    "        self.menu_list = []\n",
    "        for i in range(5):\n",
    "            self.menu_list.append(Food(menu_names[i], menu_price[i]))\n",
    "        \n",
    "        self.order_list = []\n",
    "\n",
    "    def set_order_list(self, order_list):\n",
    "        for order in order_list:\n",
    "            self.order_list.append(order)\n",
    "\n",
    "    def get_total_price(self):\n",
    "        total_price = 0\n",
    "        for order in order_list:\n",
    "            for menu in self.menu_list:\n",
    "                if order == menu.name:\n",
    "                    total_price += menu.price\n",
    "        return total_price\n",
    "\n",
    "\n",
    "def solution(order_list):\n",
    "    delivery_store = PizzaStore()\n",
    "\n",
    "    delivery_store.set_order_list(order_list)\n",
    "    total_price = delivery_store.get_total_price()\n",
    "    return total_price\n",
    "\n",
    "\n",
    "order_list = [\"Cheese\", \"Pineapple\", \"Meatball\"]\n",
    "ret = solution(order_list)\n",
    "ret"
   ]
  },
  {
   "cell_type": "code",
   "execution_count": 18,
   "metadata": {},
   "outputs": [
    {
     "output_type": "execute_result",
     "data": {
      "text/plain": [
       "2"
      ]
     },
     "metadata": {},
     "execution_count": 18
    }
   ],
   "source": [
    "# Q2\n",
    "# 해밍거리\n",
    "\n",
    "def func_a(string, length):\n",
    "    padZero = \"\"\n",
    "    padSize = length - len(string)\n",
    "    for i in range(padSize):\n",
    "        padZero += \"0\"\n",
    "    return padZero + string\n",
    "\n",
    "def solution(binaryA, binaryB):\n",
    "    max_length = max(len(binaryA), len(binaryB))\n",
    "\n",
    "    binaryA = func_a(binaryA, max_length)\n",
    "    binaryB = func_a(binaryB, max_length)\n",
    "\n",
    "    hamming_distance = 0\n",
    "    for i in range(max_length):\n",
    "        if binaryA[i] != binaryB[i]:\n",
    "            hamming_distance += 1\n",
    "    return hamming_distance\n",
    "\n",
    "\n",
    "binaryA = \"10010\"\n",
    "binaryB = \"110\"\n",
    "ret = solution(binaryA, binaryB)\n",
    "ret"
   ]
  },
  {
   "cell_type": "code",
   "execution_count": 21,
   "metadata": {},
   "outputs": [
    {
     "output_type": "execute_result",
     "data": {
      "text/plain": [
       "135"
      ]
     },
     "metadata": {},
     "execution_count": 21
    }
   ],
   "source": [
    "# Q3\n",
    "def func_a(numA, numB, exp):\n",
    "    if exp == \"+\":\n",
    "        return numA + numB\n",
    "    elif exp == \"-\":\n",
    "        return numA - numB\n",
    "    elif exp == \"*\":\n",
    "        return numA*numB\n",
    "\n",
    "def func_b(exp):\n",
    "    for index, value in enumerate(exp):\n",
    "        if value == \"+\" or value == \"-\" or value == \"*\":\n",
    "            return index\n",
    "\n",
    "def func_c(exp, idx):\n",
    "    numA = int(exp[:idx])\n",
    "    numB = int(exp[idx + 1 : ])\n",
    "    return numA, numB\n",
    "\n",
    "def solution(expression):\n",
    "    exp_index = func_b(expression)\n",
    "    first_num, second_num = func_c(expression, exp_index)\n",
    "    result = func_a(first_num, second_num, expression[exp_index])\n",
    "    return result\n",
    "\n",
    "\n",
    "expression =\"123+12\"\n",
    "ret = solution(expression)\n",
    "ret\n"
   ]
  },
  {
   "cell_type": "code",
   "execution_count": 23,
   "metadata": {},
   "outputs": [
    {
     "output_type": "execute_result",
     "data": {
      "text/plain": [
       "995111"
      ]
     },
     "metadata": {},
     "execution_count": 23
    }
   ],
   "source": [
    "# Q4\n",
    "import math\n",
    "\n",
    "def solution(num):\n",
    "    num += 1\n",
    "    digit = 1\n",
    "    while num//digit % 10 == 0:\n",
    "        num += digit\n",
    "        digit *= 10\n",
    "    return num\n",
    "\n",
    "num =994999\n",
    "ret = solution(num)\n",
    "ret"
   ]
  }
 ]
}